{
 "cells": [
  {
   "cell_type": "code",
   "execution_count": 2,
   "id": "d8c752ca-ae69-4738-9800-e4713136bccf",
   "metadata": {
    "tags": []
   },
   "outputs": [],
   "source": [
    "# !pip install pygwalker\n",
    "# !pip install geopy"
   ]
  },
  {
   "cell_type": "code",
   "execution_count": 2,
   "id": "76b62eef-18eb-4a4a-9cb8-400c750c79c0",
   "metadata": {},
   "outputs": [],
   "source": [
    "# ## How to import pygwalker and use api key, get datasets as normal and then use pyg.walk to start visualizing\n",
    "# import pygwalker as pyg\n",
    "# from pygwalker import GlobalVarManager\n",
    "# GlobalVarManager.set_kanaries_api_key(\"ak-c664d336f1906260d6ab5daea9e4b4108867cdd654af011790b03ff104b41ef3\")\n",
    "\n",
    "# import pandas as pd\n",
    "\n",
    "# df_sale_price = pd.read_csv('data/Metro_new_con_sales_count_raw_uc_sfrcondo_month.csv')\n",
    "\n",
    "# df_sale_price_cleaned = df_sale_price.dropna()\n",
    "\n",
    "# walker = pyg.walk(df_sale_price_cleaned, spec=\"ksf://zillow_project/PyGWalker.ipynb\") \n"
   ]
  },
  {
   "cell_type": "code",
   "execution_count": 3,
   "id": "1962bb01-4416-4643-bcc7-db6ae2f5287d",
   "metadata": {
    "tags": []
   },
   "outputs": [],
   "source": [
    "# import pygwalker as pyg\n",
    "# from pygwalker import GlobalVarManager\n",
    "# GlobalVarManager.set_kanaries_api_key(\"ak-c664d336f1906260d6ab5daea9e4b4108867cdd654af011790b03ff104b41ef3\")\n",
    "\n",
    "# import pandas as pdX\n",
    "\n",
    "# df_sale_price = pd.read_csv('data/Metro_new_con_sales_count_raw_uc_sfrcondo_month.csv')\n",
    "\n",
    "# df_sale_price_cleaned = df_sale_price.dropna()\n",
    "\n",
    "# ## Code block you will get from 'export code' button, copy this into here to save a graph\n",
    "\n",
    "# vis_spec = r\"\"\"{\"config\":[{\"config\":{\"defaultAggregated\":true,\"geoms\":[\"auto\"],\"coordSystem\":\"generic\",\"limit\":-1,\"timezoneDisplayOffset\":0},\"encodings\":{\"dimensions\":[{\"dragId\":\"gw_5KSc\",\"fid\":\"RegionName\",\"name\":\"RegionName\",\"basename\":\"RegionName\",\"semanticType\":\"nominal\",\"analyticType\":\"dimension\",\"offset\":0},{\"dragId\":\"gw_AIdV\",\"fid\":\"RegionType\",\"name\":\"RegionType\",\"basename\":\"RegionType\",\"semanticType\":\"nominal\",\"analyticType\":\"dimension\",\"offset\":0},{\"dragId\":\"gw_xlCm\",\"fid\":\"StateName\",\"name\":\"StateName\",\"basename\":\"StateName\",\"semanticType\":\"nominal\",\"analyticType\":\"dimension\",\"offset\":0},{\"dragId\":\"gw_mea_key_fid\",\"fid\":\"gw_mea_key_fid\",\"name\":\"Measure names\",\"analyticType\":\"dimension\",\"semanticType\":\"nominal\"}],\"measures\":[{\"dragId\":\"gw_nD3I\",\"fid\":\"RegionID\",\"name\":\"RegionID\",\"basename\":\"RegionID\",\"analyticType\":\"measure\",\"semanticType\":\"quantitative\",\"aggName\":\"sum\",\"offset\":0},{\"dragId\":\"gw_7YEs\",\"fid\":\"SizeRank\",\"name\":\"SizeRank\",\"basename\":\"SizeRank\",\"analyticType\":\"measure\",\"semanticType\":\"quantitative\",\"aggName\":\"sum\",\"offset\":0},{\"dragId\":\"gw__T-F\",\"fid\":\"2018-01-31\",\"name\":\"2018-01-31\",\"basename\":\"2018-01-31\",\"analyticType\":\"measure\",\"semanticType\":\"quantitative\",\"aggName\":\"sum\",\"offset\":0},{\"dragId\":\"gw_de_m\",\"fid\":\"2018-02-28\",\"name\":\"2018-02-28\",\"basename\":\"2018-02-28\",\"analyticType\":\"measure\",\"semanticType\":\"quantitative\",\"aggName\":\"sum\",\"offset\":0},{\"dragId\":\"gw_-B55\",\"fid\":\"2018-03-31\",\"name\":\"2018-03-31\",\"basename\":\"2018-03-31\",\"analyticType\":\"measure\",\"semanticType\":\"quantitative\",\"aggName\":\"sum\",\"offset\":0},{\"dragId\":\"gw_oTv2\",\"fid\":\"2018-04-30\",\"name\":\"2018-04-30\",\"basename\":\"2018-04-30\",\"analyticType\":\"measure\",\"semanticType\":\"quantitative\",\"aggName\":\"sum\",\"offset\":0},{\"dragId\":\"gw_Titc\",\"fid\":\"2018-05-31\",\"name\":\"2018-05-31\",\"basename\":\"2018-05-31\",\"analyticType\":\"measure\",\"semanticType\":\"quantitative\",\"aggName\":\"sum\",\"offset\":0},{\"dragId\":\"gw_xV1c\",\"fid\":\"2018-06-30\",\"name\":\"2018-06-30\",\"basename\":\"2018-06-30\",\"analyticType\":\"measure\",\"semanticType\":\"quantitative\",\"aggName\":\"sum\",\"offset\":0},{\"dragId\":\"gw_pf26\",\"fid\":\"2018-07-31\",\"name\":\"2018-07-31\",\"basename\":\"2018-07-31\",\"analyticType\":\"measure\",\"semanticType\":\"quantitative\",\"aggName\":\"sum\",\"offset\":0},{\"dragId\":\"gw_J53l\",\"fid\":\"2018-08-31\",\"name\":\"2018-08-31\",\"basename\":\"2018-08-31\",\"analyticType\":\"measure\",\"semanticType\":\"quantitative\",\"aggName\":\"sum\",\"offset\":0},{\"dragId\":\"gw_SE_o\",\"fid\":\"2018-09-30\",\"name\":\"2018-09-30\",\"basename\":\"2018-09-30\",\"analyticType\":\"measure\",\"semanticType\":\"quantitative\",\"aggName\":\"sum\",\"offset\":0},{\"dragId\":\"gw_QKi1\",\"fid\":\"2018-10-31\",\"name\":\"2018-10-31\",\"basename\":\"2018-10-31\",\"analyticType\":\"measure\",\"semanticType\":\"quantitative\",\"aggName\":\"sum\",\"offset\":0},{\"dragId\":\"gw_MdkN\",\"fid\":\"2018-11-30\",\"name\":\"2018-11-30\",\"basename\":\"2018-11-30\",\"analyticType\":\"measure\",\"semanticType\":\"quantitative\",\"aggName\":\"sum\",\"offset\":0},{\"dragId\":\"gw_7ShN\",\"fid\":\"2018-12-31\",\"name\":\"2018-12-31\",\"basename\":\"2018-12-31\",\"analyticType\":\"measure\",\"semanticType\":\"quantitative\",\"aggName\":\"sum\",\"offset\":0},{\"dragId\":\"gw_UGag\",\"fid\":\"2019-01-31\",\"name\":\"2019-01-31\",\"basename\":\"2019-01-31\",\"analyticType\":\"measure\",\"semanticType\":\"quantitative\",\"aggName\":\"sum\",\"offset\":0},{\"dragId\":\"gw_MOb1\",\"fid\":\"2019-02-28\",\"name\":\"2019-02-28\",\"basename\":\"2019-02-28\",\"analyticType\":\"measure\",\"semanticType\":\"quantitative\",\"aggName\":\"sum\",\"offset\":0},{\"dragId\":\"gw_c0Br\",\"fid\":\"2019-03-31\",\"name\":\"2019-03-31\",\"basename\":\"2019-03-31\",\"analyticType\":\"measure\",\"semanticType\":\"quantitative\",\"aggName\":\"sum\",\"offset\":0},{\"dragId\":\"gw_WlhU\",\"fid\":\"2019-04-30\",\"name\":\"2019-04-30\",\"basename\":\"2019-04-30\",\"analyticType\":\"measure\",\"semanticType\":\"quantitative\",\"aggName\":\"sum\",\"offset\":0},{\"dragId\":\"gw_6Kg0\",\"fid\":\"2019-05-31\",\"name\":\"2019-05-31\",\"basename\":\"2019-05-31\",\"analyticType\":\"measure\",\"semanticType\":\"quantitative\",\"aggName\":\"sum\",\"offset\":0},{\"dragId\":\"gw_uLM8\",\"fid\":\"2019-06-30\",\"name\":\"2019-06-30\",\"basename\":\"2019-06-30\",\"analyticType\":\"measure\",\"semanticType\":\"quantitative\",\"aggName\":\"sum\",\"offset\":0},{\"dragId\":\"gw_iTih\",\"fid\":\"2019-07-31\",\"name\":\"2019-07-31\",\"basename\":\"2019-07-31\",\"analyticType\":\"measure\",\"semanticType\":\"quantitative\",\"aggName\":\"sum\",\"offset\":0},{\"dragId\":\"gw_qnoo\",\"fid\":\"2019-08-31\",\"name\":\"2019-08-31\",\"basename\":\"2019-08-31\",\"analyticType\":\"measure\",\"semanticType\":\"quantitative\",\"aggName\":\"sum\",\"offset\":0},{\"dragId\":\"gw_6Naq\",\"fid\":\"2019-09-30\",\"name\":\"2019-09-30\",\"basename\":\"2019-09-30\",\"analyticType\":\"measure\",\"semanticType\":\"quantitative\",\"aggName\":\"sum\",\"offset\":0},{\"dragId\":\"gw_VHrM\",\"fid\":\"2019-10-31\",\"name\":\"2019-10-31\",\"basename\":\"2019-10-31\",\"analyticType\":\"measure\",\"semanticType\":\"quantitative\",\"aggName\":\"sum\",\"offset\":0},{\"dragId\":\"gw_O0Hr\",\"fid\":\"2019-11-30\",\"name\":\"2019-11-30\",\"basename\":\"2019-11-30\",\"analyticType\":\"measure\",\"semanticType\":\"quantitative\",\"aggName\":\"sum\",\"offset\":0},{\"dragId\":\"gw_5QKF\",\"fid\":\"2019-12-31\",\"name\":\"2019-12-31\",\"basename\":\"2019-12-31\",\"analyticType\":\"measure\",\"semanticType\":\"quantitative\",\"aggName\":\"sum\",\"offset\":0},{\"dragId\":\"gw_kXS7\",\"fid\":\"2020-01-31\",\"name\":\"2020-01-31\",\"basename\":\"2020-01-31\",\"analyticType\":\"measure\",\"semanticType\":\"quantitative\",\"aggName\":\"sum\",\"offset\":0},{\"dragId\":\"gw_p_Kl\",\"fid\":\"2020-02-29\",\"name\":\"2020-02-29\",\"basename\":\"2020-02-29\",\"analyticType\":\"measure\",\"semanticType\":\"quantitative\",\"aggName\":\"sum\",\"offset\":0},{\"dragId\":\"gw_rk5V\",\"fid\":\"2020-03-31\",\"name\":\"2020-03-31\",\"basename\":\"2020-03-31\",\"analyticType\":\"measure\",\"semanticType\":\"quantitative\",\"aggName\":\"sum\",\"offset\":0},{\"dragId\":\"gw_PhVn\",\"fid\":\"2020-04-30\",\"name\":\"2020-04-30\",\"basename\":\"2020-04-30\",\"analyticType\":\"measure\",\"semanticType\":\"quantitative\",\"aggName\":\"sum\",\"offset\":0},{\"dragId\":\"gw_AAXi\",\"fid\":\"2020-05-31\",\"name\":\"2020-05-31\",\"basename\":\"2020-05-31\",\"analyticType\":\"measure\",\"semanticType\":\"quantitative\",\"aggName\":\"sum\",\"offset\":0},{\"dragId\":\"gw_4D_n\",\"fid\":\"2020-06-30\",\"name\":\"2020-06-30\",\"basename\":\"2020-06-30\",\"analyticType\":\"measure\",\"semanticType\":\"quantitative\",\"aggName\":\"sum\",\"offset\":0},{\"dragId\":\"gw_2iNk\",\"fid\":\"2020-07-31\",\"name\":\"2020-07-31\",\"basename\":\"2020-07-31\",\"analyticType\":\"measure\",\"semanticType\":\"quantitative\",\"aggName\":\"sum\",\"offset\":0},{\"dragId\":\"gw_xOsl\",\"fid\":\"2020-08-31\",\"name\":\"2020-08-31\",\"basename\":\"2020-08-31\",\"analyticType\":\"measure\",\"semanticType\":\"quantitative\",\"aggName\":\"sum\",\"offset\":0},{\"dragId\":\"gw_11lb\",\"fid\":\"2020-09-30\",\"name\":\"2020-09-30\",\"basename\":\"2020-09-30\",\"analyticType\":\"measure\",\"semanticType\":\"quantitative\",\"aggName\":\"sum\",\"offset\":0},{\"dragId\":\"gw_jgmd\",\"fid\":\"2020-10-31\",\"name\":\"2020-10-31\",\"basename\":\"2020-10-31\",\"analyticType\":\"measure\",\"semanticType\":\"quantitative\",\"aggName\":\"sum\",\"offset\":0},{\"dragId\":\"gw_oVuF\",\"fid\":\"2020-11-30\",\"name\":\"2020-11-30\",\"basename\":\"2020-11-30\",\"analyticType\":\"measure\",\"semanticType\":\"quantitative\",\"aggName\":\"sum\",\"offset\":0},{\"dragId\":\"gw_7skm\",\"fid\":\"2020-12-31\",\"name\":\"2020-12-31\",\"basename\":\"2020-12-31\",\"analyticType\":\"measure\",\"semanticType\":\"quantitative\",\"aggName\":\"sum\",\"offset\":0},{\"dragId\":\"gw_x9mu\",\"fid\":\"2021-01-31\",\"name\":\"2021-01-31\",\"basename\":\"2021-01-31\",\"analyticType\":\"measure\",\"semanticType\":\"quantitative\",\"aggName\":\"sum\",\"offset\":0},{\"dragId\":\"gw_KtQQ\",\"fid\":\"2021-02-28\",\"name\":\"2021-02-28\",\"basename\":\"2021-02-28\",\"analyticType\":\"measure\",\"semanticType\":\"quantitative\",\"aggName\":\"sum\",\"offset\":0},{\"dragId\":\"gw_TnS_\",\"fid\":\"2021-03-31\",\"name\":\"2021-03-31\",\"basename\":\"2021-03-31\",\"analyticType\":\"measure\",\"semanticType\":\"quantitative\",\"aggName\":\"sum\",\"offset\":0},{\"dragId\":\"gw_XFWt\",\"fid\":\"2021-04-30\",\"name\":\"2021-04-30\",\"basename\":\"2021-04-30\",\"analyticType\":\"measure\",\"semanticType\":\"quantitative\",\"aggName\":\"sum\",\"offset\":0},{\"dragId\":\"gw_xYjT\",\"fid\":\"2021-05-31\",\"name\":\"2021-05-31\",\"basename\":\"2021-05-31\",\"analyticType\":\"measure\",\"semanticType\":\"quantitative\",\"aggName\":\"sum\",\"offset\":0},{\"dragId\":\"gw_s6rn\",\"fid\":\"2021-06-30\",\"name\":\"2021-06-30\",\"basename\":\"2021-06-30\",\"analyticType\":\"measure\",\"semanticType\":\"quantitative\",\"aggName\":\"sum\",\"offset\":0},{\"dragId\":\"gw_UcQD\",\"fid\":\"2021-07-31\",\"name\":\"2021-07-31\",\"basename\":\"2021-07-31\",\"analyticType\":\"measure\",\"semanticType\":\"quantitative\",\"aggName\":\"sum\",\"offset\":0},{\"dragId\":\"gw_go2d\",\"fid\":\"2021-08-31\",\"name\":\"2021-08-31\",\"basename\":\"2021-08-31\",\"analyticType\":\"measure\",\"semanticType\":\"quantitative\",\"aggName\":\"sum\",\"offset\":0},{\"dragId\":\"gw_lhaA\",\"fid\":\"2021-09-30\",\"name\":\"2021-09-30\",\"basename\":\"2021-09-30\",\"analyticType\":\"measure\",\"semanticType\":\"quantitative\",\"aggName\":\"sum\",\"offset\":0},{\"dragId\":\"gw_f0iH\",\"fid\":\"2021-10-31\",\"name\":\"2021-10-31\",\"basename\":\"2021-10-31\",\"analyticType\":\"measure\",\"semanticType\":\"quantitative\",\"aggName\":\"sum\",\"offset\":0},{\"dragId\":\"gw_yhG3\",\"fid\":\"2021-11-30\",\"name\":\"2021-11-30\",\"basename\":\"2021-11-30\",\"analyticType\":\"measure\",\"semanticType\":\"quantitative\",\"aggName\":\"sum\",\"offset\":0},{\"dragId\":\"gw_qXgc\",\"fid\":\"2021-12-31\",\"name\":\"2021-12-31\",\"basename\":\"2021-12-31\",\"analyticType\":\"measure\",\"semanticType\":\"quantitative\",\"aggName\":\"sum\",\"offset\":0},{\"dragId\":\"gw_xL9J\",\"fid\":\"2022-01-31\",\"name\":\"2022-01-31\",\"basename\":\"2022-01-31\",\"analyticType\":\"measure\",\"semanticType\":\"quantitative\",\"aggName\":\"sum\",\"offset\":0},{\"dragId\":\"gw_Yj68\",\"fid\":\"2022-02-28\",\"name\":\"2022-02-28\",\"basename\":\"2022-02-28\",\"analyticType\":\"measure\",\"semanticType\":\"quantitative\",\"aggName\":\"sum\",\"offset\":0},{\"dragId\":\"gw_quE4\",\"fid\":\"2022-03-31\",\"name\":\"2022-03-31\",\"basename\":\"2022-03-31\",\"analyticType\":\"measure\",\"semanticType\":\"quantitative\",\"aggName\":\"sum\",\"offset\":0},{\"dragId\":\"gw_DNSA\",\"fid\":\"2022-04-30\",\"name\":\"2022-04-30\",\"basename\":\"2022-04-30\",\"analyticType\":\"measure\",\"semanticType\":\"quantitative\",\"aggName\":\"sum\",\"offset\":0},{\"dragId\":\"gw_oOtZ\",\"fid\":\"2022-05-31\",\"name\":\"2022-05-31\",\"basename\":\"2022-05-31\",\"analyticType\":\"measure\",\"semanticType\":\"quantitative\",\"aggName\":\"sum\",\"offset\":0},{\"dragId\":\"gw_qPoR\",\"fid\":\"2022-06-30\",\"name\":\"2022-06-30\",\"basename\":\"2022-06-30\",\"analyticType\":\"measure\",\"semanticType\":\"quantitative\",\"aggName\":\"sum\",\"offset\":0},{\"dragId\":\"gw_m3J4\",\"fid\":\"2022-07-31\",\"name\":\"2022-07-31\",\"basename\":\"2022-07-31\",\"analyticType\":\"measure\",\"semanticType\":\"quantitative\",\"aggName\":\"sum\",\"offset\":0},{\"dragId\":\"gw_afdw\",\"fid\":\"2022-08-31\",\"name\":\"2022-08-31\",\"basename\":\"2022-08-31\",\"analyticType\":\"measure\",\"semanticType\":\"quantitative\",\"aggName\":\"sum\",\"offset\":0},{\"dragId\":\"gw_q3zO\",\"fid\":\"2022-09-30\",\"name\":\"2022-09-30\",\"basename\":\"2022-09-30\",\"analyticType\":\"measure\",\"semanticType\":\"quantitative\",\"aggName\":\"sum\",\"offset\":0},{\"dragId\":\"gw_yvws\",\"fid\":\"2022-10-31\",\"name\":\"2022-10-31\",\"basename\":\"2022-10-31\",\"analyticType\":\"measure\",\"semanticType\":\"quantitative\",\"aggName\":\"sum\",\"offset\":0},{\"dragId\":\"gw_iD4b\",\"fid\":\"2022-11-30\",\"name\":\"2022-11-30\",\"basename\":\"2022-11-30\",\"analyticType\":\"measure\",\"semanticType\":\"quantitative\",\"aggName\":\"sum\",\"offset\":0},{\"dragId\":\"gw_xCSg\",\"fid\":\"2022-12-31\",\"name\":\"2022-12-31\",\"basename\":\"2022-12-31\",\"analyticType\":\"measure\",\"semanticType\":\"quantitative\",\"aggName\":\"sum\",\"offset\":0},{\"dragId\":\"gw_3vnO\",\"fid\":\"2023-01-31\",\"name\":\"2023-01-31\",\"basename\":\"2023-01-31\",\"analyticType\":\"measure\",\"semanticType\":\"quantitative\",\"aggName\":\"sum\",\"offset\":0},{\"dragId\":\"gw_1RlA\",\"fid\":\"2023-02-28\",\"name\":\"2023-02-28\",\"basename\":\"2023-02-28\",\"analyticType\":\"measure\",\"semanticType\":\"quantitative\",\"aggName\":\"sum\",\"offset\":0},{\"dragId\":\"gw_M7mA\",\"fid\":\"2023-03-31\",\"name\":\"2023-03-31\",\"basename\":\"2023-03-31\",\"analyticType\":\"measure\",\"semanticType\":\"quantitative\",\"aggName\":\"sum\",\"offset\":0},{\"dragId\":\"gw_P9KP\",\"fid\":\"2023-04-30\",\"name\":\"2023-04-30\",\"basename\":\"2023-04-30\",\"analyticType\":\"measure\",\"semanticType\":\"quantitative\",\"aggName\":\"sum\",\"offset\":0},{\"dragId\":\"gw_cLZV\",\"fid\":\"2023-05-31\",\"name\":\"2023-05-31\",\"basename\":\"2023-05-31\",\"analyticType\":\"measure\",\"semanticType\":\"quantitative\",\"aggName\":\"sum\",\"offset\":0},{\"dragId\":\"gw_ZOM1\",\"fid\":\"2023-06-30\",\"name\":\"2023-06-30\",\"basename\":\"2023-06-30\",\"analyticType\":\"measure\",\"semanticType\":\"quantitative\",\"aggName\":\"sum\",\"offset\":0},{\"dragId\":\"gw_FLY8\",\"fid\":\"2023-07-31\",\"name\":\"2023-07-31\",\"basename\":\"2023-07-31\",\"analyticType\":\"measure\",\"semanticType\":\"quantitative\",\"aggName\":\"sum\",\"offset\":0},{\"dragId\":\"gw_SoBI\",\"fid\":\"2023-08-31\",\"name\":\"2023-08-31\",\"basename\":\"2023-08-31\",\"analyticType\":\"measure\",\"semanticType\":\"quantitative\",\"aggName\":\"sum\",\"offset\":0},{\"dragId\":\"gw_6LIw\",\"fid\":\"2023-09-30\",\"name\":\"2023-09-30\",\"basename\":\"2023-09-30\",\"analyticType\":\"measure\",\"semanticType\":\"quantitative\",\"aggName\":\"sum\",\"offset\":0},{\"dragId\":\"gw_pPHx\",\"fid\":\"2023-10-31\",\"name\":\"2023-10-31\",\"basename\":\"2023-10-31\",\"analyticType\":\"measure\",\"semanticType\":\"quantitative\",\"aggName\":\"sum\",\"offset\":0},{\"dragId\":\"gw_Vkgs\",\"fid\":\"2023-11-30\",\"name\":\"2023-11-30\",\"basename\":\"2023-11-30\",\"analyticType\":\"measure\",\"semanticType\":\"quantitative\",\"aggName\":\"sum\",\"offset\":0},{\"dragId\":\"gw_LtwZ\",\"fid\":\"2023-12-31\",\"name\":\"2023-12-31\",\"basename\":\"2023-12-31\",\"analyticType\":\"measure\",\"semanticType\":\"quantitative\",\"aggName\":\"sum\",\"offset\":0},{\"dragId\":\"gw_-fJr\",\"fid\":\"2024-01-31\",\"name\":\"2024-01-31\",\"basename\":\"2024-01-31\",\"analyticType\":\"measure\",\"semanticType\":\"quantitative\",\"aggName\":\"sum\",\"offset\":0},{\"dragId\":\"gw_count_fid\",\"fid\":\"gw_count_fid\",\"name\":\"Row count\",\"analyticType\":\"measure\",\"semanticType\":\"quantitative\",\"aggName\":\"sum\",\"computed\":true,\"expression\":{\"op\":\"one\",\"params\":[],\"as\":\"gw_count_fid\"}},{\"dragId\":\"gw_mea_val_fid\",\"fid\":\"gw_mea_val_fid\",\"name\":\"Measure values\",\"analyticType\":\"measure\",\"semanticType\":\"quantitative\",\"aggName\":\"sum\"}],\"rows\":[{\"dragId\":\"gw_3n3p\",\"fid\":\"2018-01-31\",\"name\":\"2018-01-31\",\"basename\":\"2018-01-31\",\"analyticType\":\"measure\",\"semanticType\":\"quantitative\",\"aggName\":\"mean\",\"offset\":0}],\"columns\":[{\"dragId\":\"gw_VYCs\",\"fid\":\"StateName\",\"name\":\"StateName\",\"basename\":\"StateName\",\"semanticType\":\"nominal\",\"analyticType\":\"dimension\",\"offset\":0}],\"color\":[],\"opacity\":[],\"size\":[],\"shape\":[],\"radius\":[],\"theta\":[],\"longitude\":[],\"latitude\":[],\"geoId\":[],\"details\":[],\"filters\":[],\"text\":[]},\"layout\":{\"showActions\":false,\"showTableSummary\":false,\"stack\":\"stack\",\"interactiveScale\":false,\"zeroScale\":true,\"size\":{\"mode\":\"auto\",\"width\":320,\"height\":200},\"format\":{},\"geoKey\":\"name\",\"resolve\":{\"x\":false,\"y\":false,\"color\":false,\"opacity\":false,\"shape\":false,\"size\":false}},\"visId\":\"gw_qxwk\",\"name\":\"Chart 1\"}],\"chart_map\":{},\"workflow_list\":[{\"workflow\":[{\"type\":\"view\",\"query\":[{\"op\":\"aggregate\",\"groupBy\":[\"StateName\"],\"measures\":[{\"field\":\"2018-01-31\",\"agg\":\"mean\",\"asFieldKey\":\"2018-01-31_mean\"}]}]}]}],\"version\":\"0.4.7\"}\"\"\"\n",
    "# pyg.walk(df_sale_price_cleaned, spec=vis_spec)\n"
   ]
  },
  {
   "cell_type": "code",
   "execution_count": 6,
   "id": "8ed11d1b-f535-4901-8ac3-83bd4b5c8a39",
   "metadata": {},
   "outputs": [
    {
     "data": {
      "application/vnd.jupyter.widget-view+json": {
       "model_id": "70e90418cfea4094b00963a02488bf13",
       "version_major": 2,
       "version_minor": 0
      },
      "text/plain": [
       "Box(children=(HTML(value='<div id=\"ifr-pyg-00061611be9307359V0M4CYBgZme6sk7\" style=\"height: auto\">\\n    <head>…"
      ]
     },
     "metadata": {},
     "output_type": "display_data"
    },
    {
     "data": {
      "text/html": [],
      "text/plain": [
       "<IPython.core.display.HTML object>"
      ]
     },
     "metadata": {},
     "output_type": "display_data"
    }
   ],
   "source": [
    "# ## How to import pygwalker and use api key, get datasets as normal and then use pyg.walk to start visualizing\n",
    "import pygwalker as pyg\n",
    "from pygwalker import GlobalVarManager\n",
    "GlobalVarManager.set_kanaries_api_key(\"ak-c664d336f1906260d6ab5daea9e4b4108867cdd654af011790b03ff104b41ef3\")\n",
    "\n",
    "import pandas as pd\n",
    "\n",
    "df_sale_price = pd.read_csv('data/Metro_new_con_sales_count_raw_uc_sfrcondo_month.csv')\n",
    "\n",
    "df_sale_price_cleaned = df_sale_price.dropna().copy()\n",
    "\n",
    "state_coordinates = {\n",
    "    \"AL\": (32.806671, -86.791130), \"AK\": (61.370716, -152.404419), \"AZ\": (33.729759, -111.431221),\n",
    "    \"AR\": (34.969704, -92.373123), \"CA\": (36.116203, -119.681564), \"CO\": (39.059811, -105.311104),\n",
    "    \"CT\": (41.597782, -72.755371), \"DE\": (39.318523, -75.507141), \"FL\": (27.766279, -81.686783),\n",
    "    \"GA\": (33.040619, -83.643074), \"HI\": (21.094318, -157.498337), \"ID\": (44.240459, -114.478828),\n",
    "    \"IL\": (40.349457, -88.986137), \"IN\": (39.849426, -86.258278), \"IA\": (42.011539, -93.210526),\n",
    "    \"KS\": (38.526600, -96.726486), \"KY\": (37.668140, -84.670067), \"LA\": (31.169546, -91.867805),\n",
    "    \"ME\": (44.693947, -69.381927), \"MD\": (39.063946, -76.802101), \"MA\": (42.230171, -71.530106),\n",
    "    \"MI\": (43.326618, -84.536095), \"MN\": (45.694454, -93.900192), \"MS\": (32.741646, -89.678696),\n",
    "    \"MO\": (38.456085, -92.288368), \"MT\": (46.921925, -110.454353), \"NE\": (41.125370, -98.268082),\n",
    "    \"NV\": (38.313515, -117.055374), \"NH\": (43.452492, -71.563896), \"NJ\": (40.298904, -74.521011),\n",
    "    \"NM\": (34.840515, -106.248482), \"NY\": (42.165726, -74.948051), \"NC\": (35.630066, -79.806419),\n",
    "    \"ND\": (47.528912, -99.784012), \"OH\": (40.388783, -82.764915), \"OK\": (35.565342, -96.928917),\n",
    "    \"OR\": (44.572021, -122.070938), \"PA\": (40.590752, -77.209755), \"RI\": (41.680893, -71.511780),\n",
    "    \"SC\": (33.856892, -80.945007), \"SD\": (44.299782, -99.438828), \"TN\": (35.747845, -86.692345),\n",
    "    \"TX\": (31.054487, -97.563461), \"UT\": (40.150032, -111.862434), \"VT\": (44.045876, -72.710686),\n",
    "    \"VA\": (37.769337, -78.169968), \"WA\": (47.400902, -121.490494), \"WV\": (38.491226, -80.954570),\n",
    "    \"WI\": (44.268543, -89.616508), \"WY\": (42.755966, -107.302490)\n",
    "}\n",
    "\n",
    "# Creating two new columns for latitude and longitude by mapping the state abbreviation\n",
    "df_sale_price_cleaned.loc[:, 'Latitude'] = df_sale_price_cleaned['StateName'].apply(lambda x: state_coordinates[x][0])\n",
    "df_sale_price_cleaned.loc[:, 'Longitude'] = df_sale_price_cleaned['StateName'].apply(lambda x: state_coordinates[x][1])\n",
    "\n",
    "\n",
    "walker = pyg.walk(df_sale_price_cleaned, spec=\"ksf://zillow_project/PyGWalker.ipynb\") "
   ]
  },
  {
   "cell_type": "code",
   "execution_count": 5,
   "id": "3bf03730-5b0d-4eca-bcde-5bae00f23b30",
   "metadata": {},
   "outputs": [
    {
     "name": "stdout",
     "output_type": "stream",
     "text": [
      "   RegionID  SizeRank       RegionName RegionType StateName  2018-01-31  \\\n",
      "1    394913         1     New York, NY        msa        NY       522.0   \n",
      "2    753899         2  Los Angeles, CA        msa        CA       418.0   \n",
      "3    394463         3      Chicago, IL        msa        IL       346.0   \n",
      "4    394514         4       Dallas, TX        msa        TX      1458.0   \n",
      "5    394692         5      Houston, TX        msa        TX      1366.0   \n",
      "\n",
      "   2018-02-28  2018-03-31  2018-04-30  2018-05-31  ...  2023-06-30  \\\n",
      "1       436.0       534.0       503.0       575.0  ...       470.0   \n",
      "2       432.0       668.0       499.0       521.0  ...       215.0   \n",
      "3       345.0       436.0       484.0       560.0  ...       513.0   \n",
      "4      1587.0      2147.0      1882.0      1718.0  ...      1979.0   \n",
      "5      1678.0      1876.0      1849.0      1798.0  ...      2144.0   \n",
      "\n",
      "   2023-07-31  2023-08-31  2023-09-30  2023-10-31  2023-11-30  2023-12-31  \\\n",
      "1       344.0       439.0       375.0       366.0       340.0       295.0   \n",
      "2       160.0       160.0       177.0       169.0       219.0       193.0   \n",
      "3       407.0       518.0       437.0       404.0       515.0       365.0   \n",
      "4      1576.0      1730.0      1521.0      1418.0      1375.0      1659.0   \n",
      "5      1705.0      1726.0      1727.0      1586.0      1856.0      1780.0   \n",
      "\n",
      "   2024-01-31   Latitude   Longitude  \n",
      "1       242.0  42.165726  -74.948051  \n",
      "2       138.0  36.116203 -119.681564  \n",
      "3       274.0  40.349457  -88.986137  \n",
      "4      1141.0  31.054487  -97.563461  \n",
      "5      1246.0  31.054487  -97.563461  \n",
      "\n",
      "[5 rows x 80 columns]\n"
     ]
    },
    {
     "name": "stderr",
     "output_type": "stream",
     "text": [
      "/var/folders/nq/x683qlmx39ng8v_l8ymc6cw00000gn/T/ipykernel_30767/891187597.py:29: SettingWithCopyWarning: \n",
      "A value is trying to be set on a copy of a slice from a DataFrame.\n",
      "Try using .loc[row_indexer,col_indexer] = value instead\n",
      "\n",
      "See the caveats in the documentation: https://pandas.pydata.org/pandas-docs/stable/user_guide/indexing.html#returning-a-view-versus-a-copy\n",
      "  df_sale_price_cleaned['Latitude'] = df_sale_price_cleaned['StateName'].apply(lambda x: state_coordinates[x][0])\n",
      "/var/folders/nq/x683qlmx39ng8v_l8ymc6cw00000gn/T/ipykernel_30767/891187597.py:30: SettingWithCopyWarning: \n",
      "A value is trying to be set on a copy of a slice from a DataFrame.\n",
      "Try using .loc[row_indexer,col_indexer] = value instead\n",
      "\n",
      "See the caveats in the documentation: https://pandas.pydata.org/pandas-docs/stable/user_guide/indexing.html#returning-a-view-versus-a-copy\n",
      "  df_sale_price_cleaned['Longitude'] = df_sale_price_cleaned['StateName'].apply(lambda x: state_coordinates[x][1])\n"
     ]
    }
   ],
   "source": [
    "import pandas as pd\n",
    "\n",
    "# Load your data\n",
    "df_sale_price = pd.read_csv('data/Metro_new_con_sales_count_raw_uc_sfrcondo_month.csv')\n",
    "df_sale_price_cleaned = df_sale_price.dropna()\n",
    "\n",
    "# Dictionary of state abbreviations with their respective latitude and longitude\n",
    "state_coordinates = {\n",
    "    \"AL\": (32.806671, -86.791130), \"AK\": (61.370716, -152.404419), \"AZ\": (33.729759, -111.431221),\n",
    "    \"AR\": (34.969704, -92.373123), \"CA\": (36.116203, -119.681564), \"CO\": (39.059811, -105.311104),\n",
    "    \"CT\": (41.597782, -72.755371), \"DE\": (39.318523, -75.507141), \"FL\": (27.766279, -81.686783),\n",
    "    \"GA\": (33.040619, -83.643074), \"HI\": (21.094318, -157.498337), \"ID\": (44.240459, -114.478828),\n",
    "    \"IL\": (40.349457, -88.986137), \"IN\": (39.849426, -86.258278), \"IA\": (42.011539, -93.210526),\n",
    "    \"KS\": (38.526600, -96.726486), \"KY\": (37.668140, -84.670067), \"LA\": (31.169546, -91.867805),\n",
    "    \"ME\": (44.693947, -69.381927), \"MD\": (39.063946, -76.802101), \"MA\": (42.230171, -71.530106),\n",
    "    \"MI\": (43.326618, -84.536095), \"MN\": (45.694454, -93.900192), \"MS\": (32.741646, -89.678696),\n",
    "    \"MO\": (38.456085, -92.288368), \"MT\": (46.921925, -110.454353), \"NE\": (41.125370, -98.268082),\n",
    "    \"NV\": (38.313515, -117.055374), \"NH\": (43.452492, -71.563896), \"NJ\": (40.298904, -74.521011),\n",
    "    \"NM\": (34.840515, -106.248482), \"NY\": (42.165726, -74.948051), \"NC\": (35.630066, -79.806419),\n",
    "    \"ND\": (47.528912, -99.784012), \"OH\": (40.388783, -82.764915), \"OK\": (35.565342, -96.928917),\n",
    "    \"OR\": (44.572021, -122.070938), \"PA\": (40.590752, -77.209755), \"RI\": (41.680893, -71.511780),\n",
    "    \"SC\": (33.856892, -80.945007), \"SD\": (44.299782, -99.438828), \"TN\": (35.747845, -86.692345),\n",
    "    \"TX\": (31.054487, -97.563461), \"UT\": (40.150032, -111.862434), \"VT\": (44.045876, -72.710686),\n",
    "    \"VA\": (37.769337, -78.169968), \"WA\": (47.400902, -121.490494), \"WV\": (38.491226, -80.954570),\n",
    "    \"WI\": (44.268543, -89.616508), \"WY\": (42.755966, -107.302490)\n",
    "}\n",
    "\n",
    "# Creating two new columns for latitude and longitude by mapping the state abbreviation\n",
    "df_sale_price_cleaned['Latitude'] = df_sale_price_cleaned['StateName'].apply(lambda x: state_coordinates[x][0])\n",
    "df_sale_price_cleaned['Longitude'] = df_sale_price_cleaned['StateName'].apply(lambda x: state_coordinates[x][1])\n",
    "\n",
    "# Now, the DataFrame df_sale_price_cleaned contains the new columns 'Latitude' and 'Longitude'\n",
    "print(df_sale_price_cleaned.head())"
   ]
  },
  {
   "cell_type": "code",
   "execution_count": null,
   "id": "323bce75-0cf1-4a37-b874-27b288822c09",
   "metadata": {},
   "outputs": [],
   "source": []
  },
  {
   "cell_type": "code",
   "execution_count": null,
   "id": "0597f179-dc8b-488b-a31c-a647f16aae06",
   "metadata": {},
   "outputs": [],
   "source": []
  },
  {
   "cell_type": "code",
   "execution_count": null,
   "id": "31b6c511-7caa-440f-9eea-0b6ad570a528",
   "metadata": {},
   "outputs": [],
   "source": []
  }
 ],
 "metadata": {
  "kernelspec": {
   "display_name": "Python 3 (ipykernel)",
   "language": "python",
   "name": "python3"
  },
  "language_info": {
   "codemirror_mode": {
    "name": "ipython",
    "version": 3
   },
   "file_extension": ".py",
   "mimetype": "text/x-python",
   "name": "python",
   "nbconvert_exporter": "python",
   "pygments_lexer": "ipython3",
   "version": "3.11.8"
  }
 },
 "nbformat": 4,
 "nbformat_minor": 5
}
