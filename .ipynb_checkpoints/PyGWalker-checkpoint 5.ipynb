{
 "cells": [
  {
   "cell_type": "code",
   "execution_count": 7,
   "id": "d8c752ca-ae69-4738-9800-e4713136bccf",
   "metadata": {
    "tags": []
   },
   "outputs": [
    {
     "name": "stdout",
     "output_type": "stream",
     "text": [
      "Requirement already satisfied: pygwalker in /Users/justinstone/anaconda3/lib/python3.11/site-packages (0.4.7)\n",
      "Requirement already satisfied: appdirs in /Users/justinstone/anaconda3/lib/python3.11/site-packages (from pygwalker) (1.4.4)\n",
      "Requirement already satisfied: arrow in /Users/justinstone/anaconda3/lib/python3.11/site-packages (from pygwalker) (1.2.3)\n",
      "Requirement already satisfied: astor in /Users/justinstone/anaconda3/lib/python3.11/site-packages (from pygwalker) (0.8.1)\n",
      "Requirement already satisfied: cachetools in /Users/justinstone/anaconda3/lib/python3.11/site-packages (from pygwalker) (5.3.3)\n",
      "Requirement already satisfied: duckdb==0.10.0 in /Users/justinstone/anaconda3/lib/python3.11/site-packages (from pygwalker) (0.10.0)\n",
      "Requirement already satisfied: gw-dsl-parser==0.1.45a6 in /Users/justinstone/anaconda3/lib/python3.11/site-packages (from pygwalker) (0.1.45a6)\n",
      "Requirement already satisfied: ipython in /Users/justinstone/anaconda3/lib/python3.11/site-packages (from pygwalker) (8.20.0)\n",
      "Requirement already satisfied: ipywidgets in /Users/justinstone/anaconda3/lib/python3.11/site-packages (from pygwalker) (8.1.2)\n",
      "Requirement already satisfied: jinja2 in /Users/justinstone/anaconda3/lib/python3.11/site-packages (from pygwalker) (3.1.3)\n",
      "Requirement already satisfied: kanaries-track==0.0.4 in /Users/justinstone/anaconda3/lib/python3.11/site-packages (from pygwalker) (0.0.4)\n",
      "Requirement already satisfied: pandas in /Users/justinstone/anaconda3/lib/python3.11/site-packages (from pygwalker) (2.1.4)\n",
      "Requirement already satisfied: psutil in /Users/justinstone/anaconda3/lib/python3.11/site-packages (from pygwalker) (5.9.0)\n",
      "Requirement already satisfied: pyarrow in /Users/justinstone/anaconda3/lib/python3.11/site-packages (from pygwalker) (11.0.0)\n",
      "Requirement already satisfied: pydantic in /Users/justinstone/anaconda3/lib/python3.11/site-packages (from pygwalker) (1.10.12)\n",
      "Requirement already satisfied: pytz in /Users/justinstone/anaconda3/lib/python3.11/site-packages (from pygwalker) (2023.3.post1)\n",
      "Requirement already satisfied: requests in /Users/justinstone/anaconda3/lib/python3.11/site-packages (from pygwalker) (2.31.0)\n",
      "Requirement already satisfied: segment-analytics-python==2.2.3 in /Users/justinstone/anaconda3/lib/python3.11/site-packages (from pygwalker) (2.2.3)\n",
      "Requirement already satisfied: sqlalchemy in /Users/justinstone/anaconda3/lib/python3.11/site-packages (from pygwalker) (1.4.39)\n",
      "Requirement already satisfied: sqlglot>=19.0.0 in /Users/justinstone/anaconda3/lib/python3.11/site-packages (from pygwalker) (23.6.3)\n",
      "Requirement already satisfied: typing-extensions in /Users/justinstone/anaconda3/lib/python3.11/site-packages (from pygwalker) (4.9.0)\n",
      "Requirement already satisfied: wasmtime==12.0.0 in /Users/justinstone/anaconda3/lib/python3.11/site-packages (from gw-dsl-parser==0.1.45a6->pygwalker) (12.0.0)\n",
      "Requirement already satisfied: backoff>=2.2.1 in /Users/justinstone/anaconda3/lib/python3.11/site-packages (from kanaries-track==0.0.4->pygwalker) (2.2.1)\n",
      "Requirement already satisfied: dateutils>=0.6.12 in /Users/justinstone/anaconda3/lib/python3.11/site-packages (from kanaries-track==0.0.4->pygwalker) (0.6.12)\n",
      "Requirement already satisfied: monotonic~=1.5 in /Users/justinstone/anaconda3/lib/python3.11/site-packages (from segment-analytics-python==2.2.3->pygwalker) (1.6)\n",
      "Requirement already satisfied: python-dateutil~=2.2 in /Users/justinstone/anaconda3/lib/python3.11/site-packages (from segment-analytics-python==2.2.3->pygwalker) (2.8.2)\n",
      "Requirement already satisfied: charset-normalizer<4,>=2 in /Users/justinstone/anaconda3/lib/python3.11/site-packages (from requests->pygwalker) (2.0.4)\n",
      "Requirement already satisfied: idna<4,>=2.5 in /Users/justinstone/anaconda3/lib/python3.11/site-packages (from requests->pygwalker) (3.4)\n",
      "Requirement already satisfied: urllib3<3,>=1.21.1 in /Users/justinstone/anaconda3/lib/python3.11/site-packages (from requests->pygwalker) (2.1.0)\n",
      "Requirement already satisfied: certifi>=2017.4.17 in /Users/justinstone/anaconda3/lib/python3.11/site-packages (from requests->pygwalker) (2024.2.2)\n",
      "Requirement already satisfied: decorator in /Users/justinstone/anaconda3/lib/python3.11/site-packages (from ipython->pygwalker) (5.1.1)\n",
      "Requirement already satisfied: jedi>=0.16 in /Users/justinstone/anaconda3/lib/python3.11/site-packages (from ipython->pygwalker) (0.18.1)\n",
      "Requirement already satisfied: matplotlib-inline in /Users/justinstone/anaconda3/lib/python3.11/site-packages (from ipython->pygwalker) (0.1.6)\n",
      "Requirement already satisfied: prompt-toolkit<3.1.0,>=3.0.41 in /Users/justinstone/anaconda3/lib/python3.11/site-packages (from ipython->pygwalker) (3.0.43)\n",
      "Requirement already satisfied: pygments>=2.4.0 in /Users/justinstone/anaconda3/lib/python3.11/site-packages (from ipython->pygwalker) (2.15.1)\n",
      "Requirement already satisfied: stack-data in /Users/justinstone/anaconda3/lib/python3.11/site-packages (from ipython->pygwalker) (0.2.0)\n",
      "Requirement already satisfied: traitlets>=5 in /Users/justinstone/anaconda3/lib/python3.11/site-packages (from ipython->pygwalker) (5.7.1)\n",
      "Requirement already satisfied: pexpect>4.3 in /Users/justinstone/anaconda3/lib/python3.11/site-packages (from ipython->pygwalker) (4.8.0)\n",
      "Requirement already satisfied: comm>=0.1.3 in /Users/justinstone/anaconda3/lib/python3.11/site-packages (from ipywidgets->pygwalker) (0.2.1)\n",
      "Requirement already satisfied: widgetsnbextension~=4.0.10 in /Users/justinstone/anaconda3/lib/python3.11/site-packages (from ipywidgets->pygwalker) (4.0.10)\n",
      "Requirement already satisfied: jupyterlab-widgets~=3.0.10 in /Users/justinstone/anaconda3/lib/python3.11/site-packages (from ipywidgets->pygwalker) (3.0.10)\n",
      "Requirement already satisfied: MarkupSafe>=2.0 in /Users/justinstone/anaconda3/lib/python3.11/site-packages (from jinja2->pygwalker) (2.1.3)\n",
      "Requirement already satisfied: numpy<2,>=1.23.2 in /Users/justinstone/anaconda3/lib/python3.11/site-packages (from pandas->pygwalker) (1.24.3)\n",
      "Requirement already satisfied: tzdata>=2022.1 in /Users/justinstone/anaconda3/lib/python3.11/site-packages (from pandas->pygwalker) (2024.1)\n",
      "Requirement already satisfied: greenlet!=0.4.17 in /Users/justinstone/anaconda3/lib/python3.11/site-packages (from sqlalchemy->pygwalker) (2.0.1)\n",
      "Requirement already satisfied: parso<0.9.0,>=0.8.0 in /Users/justinstone/anaconda3/lib/python3.11/site-packages (from jedi>=0.16->ipython->pygwalker) (0.8.3)\n",
      "Requirement already satisfied: ptyprocess>=0.5 in /Users/justinstone/anaconda3/lib/python3.11/site-packages (from pexpect>4.3->ipython->pygwalker) (0.7.0)\n",
      "Requirement already satisfied: wcwidth in /Users/justinstone/anaconda3/lib/python3.11/site-packages (from prompt-toolkit<3.1.0,>=3.0.41->ipython->pygwalker) (0.2.5)\n",
      "Requirement already satisfied: six>=1.5 in /Users/justinstone/anaconda3/lib/python3.11/site-packages (from python-dateutil~=2.2->segment-analytics-python==2.2.3->pygwalker) (1.16.0)\n",
      "Requirement already satisfied: executing in /Users/justinstone/anaconda3/lib/python3.11/site-packages (from stack-data->ipython->pygwalker) (0.8.3)\n",
      "Requirement already satisfied: asttokens in /Users/justinstone/anaconda3/lib/python3.11/site-packages (from stack-data->ipython->pygwalker) (2.0.5)\n",
      "Requirement already satisfied: pure-eval in /Users/justinstone/anaconda3/lib/python3.11/site-packages (from stack-data->ipython->pygwalker) (0.2.2)\n",
      "Collecting geopy\n",
      "  Obtaining dependency information for geopy from https://files.pythonhosted.org/packages/e5/15/cf2a69ade4b194aa524ac75112d5caac37414b20a3a03e6865dfe0bd1539/geopy-2.4.1-py3-none-any.whl.metadata\n",
      "  Downloading geopy-2.4.1-py3-none-any.whl.metadata (6.8 kB)\n",
      "Collecting geographiclib<3,>=1.52 (from geopy)\n",
      "  Obtaining dependency information for geographiclib<3,>=1.52 from https://files.pythonhosted.org/packages/9f/5a/a26132406f1f40cf51ea349a5f11b0a46cec02a2031ff82e391c2537247a/geographiclib-2.0-py3-none-any.whl.metadata\n",
      "  Downloading geographiclib-2.0-py3-none-any.whl.metadata (1.4 kB)\n",
      "Downloading geopy-2.4.1-py3-none-any.whl (125 kB)\n",
      "\u001b[2K   \u001b[90m━━━━━━━━━━━━━━━━━━━━━━━━━━━━━━━━━━━━━━━━\u001b[0m \u001b[32m125.4/125.4 kB\u001b[0m \u001b[31m1.0 MB/s\u001b[0m eta \u001b[36m0:00:00\u001b[0ma \u001b[36m0:00:01\u001b[0m\n",
      "\u001b[?25hDownloading geographiclib-2.0-py3-none-any.whl (40 kB)\n",
      "\u001b[2K   \u001b[90m━━━━━━━━━━━━━━━━━━━━━━━━━━━━━━━━━━━━━━━━\u001b[0m \u001b[32m40.3/40.3 kB\u001b[0m \u001b[31m754.5 kB/s\u001b[0m eta \u001b[36m0:00:00\u001b[0m \u001b[36m0:00:01\u001b[0m\n",
      "\u001b[?25hInstalling collected packages: geographiclib, geopy\n",
      "Successfully installed geographiclib-2.0 geopy-2.4.1\n"
     ]
    }
   ],
   "source": [
    "!pip install pygwalker\n",
    "!pip install geopy\n"
   ]
  },
  {
   "cell_type": "code",
   "execution_count": 4,
   "id": "76b62eef-18eb-4a4a-9cb8-400c750c79c0",
   "metadata": {},
   "outputs": [
    {
     "data": {
      "application/vnd.jupyter.widget-view+json": {
       "model_id": "5d5d21ba4e324673a9d162081ebfc533",
       "version_major": 2,
       "version_minor": 0
      },
      "text/plain": [
       "Box(children=(HTML(value='<div id=\"ifr-pyg-000616116ef6b56brs7mMNEt4nR5LqJh\" style=\"height: auto\">\\n    <head>…"
      ]
     },
     "metadata": {},
     "output_type": "display_data"
    },
    {
     "data": {
      "text/html": [],
      "text/plain": [
       "<IPython.core.display.HTML object>"
      ]
     },
     "metadata": {},
     "output_type": "display_data"
    }
   ],
   "source": [
    "## How to import pygwalker and use api key, get datasets as normal and then use pyg.walk to start visualizing\n",
    "import pygwalker as pyg\n",
    "from pygwalker import GlobalVarManager\n",
    "GlobalVarManager.set_kanaries_api_key(\"ak-c664d336f1906260d6ab5daea9e4b4108867cdd654af011790b03ff104b41ef3\")\n",
    "\n",
    "import pandas as pd\n",
    "\n",
    "df_sale_price = pd.read_csv('data/Metro_new_con_sales_count_raw_uc_sfrcondo_month.csv')\n",
    "\n",
    "df_sale_price_cleaned = df_sale_price.dropna()\n",
    "\n",
    "walker = pyg.walk(df_sale_price_cleaned, spec=\"ksf://zillow_project/PyGWalker.ipynb\") \n"
   ]
  },
  {
   "cell_type": "code",
   "execution_count": null,
   "id": "1962bb01-4416-4643-bcc7-db6ae2f5287d",
   "metadata": {
    "tags": []
   },
   "outputs": [],
   "source": [
    "import pygwalker as pyg\n",
    "from pygwalker import GlobalVarManager\n",
    "GlobalVarManager.set_kanaries_api_key(\"ak-c664d336f1906260d6ab5daea9e4b4108867cdd654af011790b03ff104b41ef3\")\n",
    "\n",
    "import pandas as pdX\n",
    "\n",
    "df_sale_price = pd.read_csv('data/Metro_new_con_sales_count_raw_uc_sfrcondo_month.csv')\n",
    "\n",
    "df_sale_price_cleaned = df_sale_price.dropna()\n",
    "\n",
    "## Code block you will get from 'export code' button, copy this into here to save a graph\n",
    "\n",
    "vis_spec = r\"\"\"{\"config\":[{\"config\":{\"defaultAggregated\":true,\"geoms\":[\"auto\"],\"coordSystem\":\"generic\",\"limit\":-1,\"timezoneDisplayOffset\":0},\"encodings\":{\"dimensions\":[{\"dragId\":\"gw_5KSc\",\"fid\":\"RegionName\",\"name\":\"RegionName\",\"basename\":\"RegionName\",\"semanticType\":\"nominal\",\"analyticType\":\"dimension\",\"offset\":0},{\"dragId\":\"gw_AIdV\",\"fid\":\"RegionType\",\"name\":\"RegionType\",\"basename\":\"RegionType\",\"semanticType\":\"nominal\",\"analyticType\":\"dimension\",\"offset\":0},{\"dragId\":\"gw_xlCm\",\"fid\":\"StateName\",\"name\":\"StateName\",\"basename\":\"StateName\",\"semanticType\":\"nominal\",\"analyticType\":\"dimension\",\"offset\":0},{\"dragId\":\"gw_mea_key_fid\",\"fid\":\"gw_mea_key_fid\",\"name\":\"Measure names\",\"analyticType\":\"dimension\",\"semanticType\":\"nominal\"}],\"measures\":[{\"dragId\":\"gw_nD3I\",\"fid\":\"RegionID\",\"name\":\"RegionID\",\"basename\":\"RegionID\",\"analyticType\":\"measure\",\"semanticType\":\"quantitative\",\"aggName\":\"sum\",\"offset\":0},{\"dragId\":\"gw_7YEs\",\"fid\":\"SizeRank\",\"name\":\"SizeRank\",\"basename\":\"SizeRank\",\"analyticType\":\"measure\",\"semanticType\":\"quantitative\",\"aggName\":\"sum\",\"offset\":0},{\"dragId\":\"gw__T-F\",\"fid\":\"2018-01-31\",\"name\":\"2018-01-31\",\"basename\":\"2018-01-31\",\"analyticType\":\"measure\",\"semanticType\":\"quantitative\",\"aggName\":\"sum\",\"offset\":0},{\"dragId\":\"gw_de_m\",\"fid\":\"2018-02-28\",\"name\":\"2018-02-28\",\"basename\":\"2018-02-28\",\"analyticType\":\"measure\",\"semanticType\":\"quantitative\",\"aggName\":\"sum\",\"offset\":0},{\"dragId\":\"gw_-B55\",\"fid\":\"2018-03-31\",\"name\":\"2018-03-31\",\"basename\":\"2018-03-31\",\"analyticType\":\"measure\",\"semanticType\":\"quantitative\",\"aggName\":\"sum\",\"offset\":0},{\"dragId\":\"gw_oTv2\",\"fid\":\"2018-04-30\",\"name\":\"2018-04-30\",\"basename\":\"2018-04-30\",\"analyticType\":\"measure\",\"semanticType\":\"quantitative\",\"aggName\":\"sum\",\"offset\":0},{\"dragId\":\"gw_Titc\",\"fid\":\"2018-05-31\",\"name\":\"2018-05-31\",\"basename\":\"2018-05-31\",\"analyticType\":\"measure\",\"semanticType\":\"quantitative\",\"aggName\":\"sum\",\"offset\":0},{\"dragId\":\"gw_xV1c\",\"fid\":\"2018-06-30\",\"name\":\"2018-06-30\",\"basename\":\"2018-06-30\",\"analyticType\":\"measure\",\"semanticType\":\"quantitative\",\"aggName\":\"sum\",\"offset\":0},{\"dragId\":\"gw_pf26\",\"fid\":\"2018-07-31\",\"name\":\"2018-07-31\",\"basename\":\"2018-07-31\",\"analyticType\":\"measure\",\"semanticType\":\"quantitative\",\"aggName\":\"sum\",\"offset\":0},{\"dragId\":\"gw_J53l\",\"fid\":\"2018-08-31\",\"name\":\"2018-08-31\",\"basename\":\"2018-08-31\",\"analyticType\":\"measure\",\"semanticType\":\"quantitative\",\"aggName\":\"sum\",\"offset\":0},{\"dragId\":\"gw_SE_o\",\"fid\":\"2018-09-30\",\"name\":\"2018-09-30\",\"basename\":\"2018-09-30\",\"analyticType\":\"measure\",\"semanticType\":\"quantitative\",\"aggName\":\"sum\",\"offset\":0},{\"dragId\":\"gw_QKi1\",\"fid\":\"2018-10-31\",\"name\":\"2018-10-31\",\"basename\":\"2018-10-31\",\"analyticType\":\"measure\",\"semanticType\":\"quantitative\",\"aggName\":\"sum\",\"offset\":0},{\"dragId\":\"gw_MdkN\",\"fid\":\"2018-11-30\",\"name\":\"2018-11-30\",\"basename\":\"2018-11-30\",\"analyticType\":\"measure\",\"semanticType\":\"quantitative\",\"aggName\":\"sum\",\"offset\":0},{\"dragId\":\"gw_7ShN\",\"fid\":\"2018-12-31\",\"name\":\"2018-12-31\",\"basename\":\"2018-12-31\",\"analyticType\":\"measure\",\"semanticType\":\"quantitative\",\"aggName\":\"sum\",\"offset\":0},{\"dragId\":\"gw_UGag\",\"fid\":\"2019-01-31\",\"name\":\"2019-01-31\",\"basename\":\"2019-01-31\",\"analyticType\":\"measure\",\"semanticType\":\"quantitative\",\"aggName\":\"sum\",\"offset\":0},{\"dragId\":\"gw_MOb1\",\"fid\":\"2019-02-28\",\"name\":\"2019-02-28\",\"basename\":\"2019-02-28\",\"analyticType\":\"measure\",\"semanticType\":\"quantitative\",\"aggName\":\"sum\",\"offset\":0},{\"dragId\":\"gw_c0Br\",\"fid\":\"2019-03-31\",\"name\":\"2019-03-31\",\"basename\":\"2019-03-31\",\"analyticType\":\"measure\",\"semanticType\":\"quantitative\",\"aggName\":\"sum\",\"offset\":0},{\"dragId\":\"gw_WlhU\",\"fid\":\"2019-04-30\",\"name\":\"2019-04-30\",\"basename\":\"2019-04-30\",\"analyticType\":\"measure\",\"semanticType\":\"quantitative\",\"aggName\":\"sum\",\"offset\":0},{\"dragId\":\"gw_6Kg0\",\"fid\":\"2019-05-31\",\"name\":\"2019-05-31\",\"basename\":\"2019-05-31\",\"analyticType\":\"measure\",\"semanticType\":\"quantitative\",\"aggName\":\"sum\",\"offset\":0},{\"dragId\":\"gw_uLM8\",\"fid\":\"2019-06-30\",\"name\":\"2019-06-30\",\"basename\":\"2019-06-30\",\"analyticType\":\"measure\",\"semanticType\":\"quantitative\",\"aggName\":\"sum\",\"offset\":0},{\"dragId\":\"gw_iTih\",\"fid\":\"2019-07-31\",\"name\":\"2019-07-31\",\"basename\":\"2019-07-31\",\"analyticType\":\"measure\",\"semanticType\":\"quantitative\",\"aggName\":\"sum\",\"offset\":0},{\"dragId\":\"gw_qnoo\",\"fid\":\"2019-08-31\",\"name\":\"2019-08-31\",\"basename\":\"2019-08-31\",\"analyticType\":\"measure\",\"semanticType\":\"quantitative\",\"aggName\":\"sum\",\"offset\":0},{\"dragId\":\"gw_6Naq\",\"fid\":\"2019-09-30\",\"name\":\"2019-09-30\",\"basename\":\"2019-09-30\",\"analyticType\":\"measure\",\"semanticType\":\"quantitative\",\"aggName\":\"sum\",\"offset\":0},{\"dragId\":\"gw_VHrM\",\"fid\":\"2019-10-31\",\"name\":\"2019-10-31\",\"basename\":\"2019-10-31\",\"analyticType\":\"measure\",\"semanticType\":\"quantitative\",\"aggName\":\"sum\",\"offset\":0},{\"dragId\":\"gw_O0Hr\",\"fid\":\"2019-11-30\",\"name\":\"2019-11-30\",\"basename\":\"2019-11-30\",\"analyticType\":\"measure\",\"semanticType\":\"quantitative\",\"aggName\":\"sum\",\"offset\":0},{\"dragId\":\"gw_5QKF\",\"fid\":\"2019-12-31\",\"name\":\"2019-12-31\",\"basename\":\"2019-12-31\",\"analyticType\":\"measure\",\"semanticType\":\"quantitative\",\"aggName\":\"sum\",\"offset\":0},{\"dragId\":\"gw_kXS7\",\"fid\":\"2020-01-31\",\"name\":\"2020-01-31\",\"basename\":\"2020-01-31\",\"analyticType\":\"measure\",\"semanticType\":\"quantitative\",\"aggName\":\"sum\",\"offset\":0},{\"dragId\":\"gw_p_Kl\",\"fid\":\"2020-02-29\",\"name\":\"2020-02-29\",\"basename\":\"2020-02-29\",\"analyticType\":\"measure\",\"semanticType\":\"quantitative\",\"aggName\":\"sum\",\"offset\":0},{\"dragId\":\"gw_rk5V\",\"fid\":\"2020-03-31\",\"name\":\"2020-03-31\",\"basename\":\"2020-03-31\",\"analyticType\":\"measure\",\"semanticType\":\"quantitative\",\"aggName\":\"sum\",\"offset\":0},{\"dragId\":\"gw_PhVn\",\"fid\":\"2020-04-30\",\"name\":\"2020-04-30\",\"basename\":\"2020-04-30\",\"analyticType\":\"measure\",\"semanticType\":\"quantitative\",\"aggName\":\"sum\",\"offset\":0},{\"dragId\":\"gw_AAXi\",\"fid\":\"2020-05-31\",\"name\":\"2020-05-31\",\"basename\":\"2020-05-31\",\"analyticType\":\"measure\",\"semanticType\":\"quantitative\",\"aggName\":\"sum\",\"offset\":0},{\"dragId\":\"gw_4D_n\",\"fid\":\"2020-06-30\",\"name\":\"2020-06-30\",\"basename\":\"2020-06-30\",\"analyticType\":\"measure\",\"semanticType\":\"quantitative\",\"aggName\":\"sum\",\"offset\":0},{\"dragId\":\"gw_2iNk\",\"fid\":\"2020-07-31\",\"name\":\"2020-07-31\",\"basename\":\"2020-07-31\",\"analyticType\":\"measure\",\"semanticType\":\"quantitative\",\"aggName\":\"sum\",\"offset\":0},{\"dragId\":\"gw_xOsl\",\"fid\":\"2020-08-31\",\"name\":\"2020-08-31\",\"basename\":\"2020-08-31\",\"analyticType\":\"measure\",\"semanticType\":\"quantitative\",\"aggName\":\"sum\",\"offset\":0},{\"dragId\":\"gw_11lb\",\"fid\":\"2020-09-30\",\"name\":\"2020-09-30\",\"basename\":\"2020-09-30\",\"analyticType\":\"measure\",\"semanticType\":\"quantitative\",\"aggName\":\"sum\",\"offset\":0},{\"dragId\":\"gw_jgmd\",\"fid\":\"2020-10-31\",\"name\":\"2020-10-31\",\"basename\":\"2020-10-31\",\"analyticType\":\"measure\",\"semanticType\":\"quantitative\",\"aggName\":\"sum\",\"offset\":0},{\"dragId\":\"gw_oVuF\",\"fid\":\"2020-11-30\",\"name\":\"2020-11-30\",\"basename\":\"2020-11-30\",\"analyticType\":\"measure\",\"semanticType\":\"quantitative\",\"aggName\":\"sum\",\"offset\":0},{\"dragId\":\"gw_7skm\",\"fid\":\"2020-12-31\",\"name\":\"2020-12-31\",\"basename\":\"2020-12-31\",\"analyticType\":\"measure\",\"semanticType\":\"quantitative\",\"aggName\":\"sum\",\"offset\":0},{\"dragId\":\"gw_x9mu\",\"fid\":\"2021-01-31\",\"name\":\"2021-01-31\",\"basename\":\"2021-01-31\",\"analyticType\":\"measure\",\"semanticType\":\"quantitative\",\"aggName\":\"sum\",\"offset\":0},{\"dragId\":\"gw_KtQQ\",\"fid\":\"2021-02-28\",\"name\":\"2021-02-28\",\"basename\":\"2021-02-28\",\"analyticType\":\"measure\",\"semanticType\":\"quantitative\",\"aggName\":\"sum\",\"offset\":0},{\"dragId\":\"gw_TnS_\",\"fid\":\"2021-03-31\",\"name\":\"2021-03-31\",\"basename\":\"2021-03-31\",\"analyticType\":\"measure\",\"semanticType\":\"quantitative\",\"aggName\":\"sum\",\"offset\":0},{\"dragId\":\"gw_XFWt\",\"fid\":\"2021-04-30\",\"name\":\"2021-04-30\",\"basename\":\"2021-04-30\",\"analyticType\":\"measure\",\"semanticType\":\"quantitative\",\"aggName\":\"sum\",\"offset\":0},{\"dragId\":\"gw_xYjT\",\"fid\":\"2021-05-31\",\"name\":\"2021-05-31\",\"basename\":\"2021-05-31\",\"analyticType\":\"measure\",\"semanticType\":\"quantitative\",\"aggName\":\"sum\",\"offset\":0},{\"dragId\":\"gw_s6rn\",\"fid\":\"2021-06-30\",\"name\":\"2021-06-30\",\"basename\":\"2021-06-30\",\"analyticType\":\"measure\",\"semanticType\":\"quantitative\",\"aggName\":\"sum\",\"offset\":0},{\"dragId\":\"gw_UcQD\",\"fid\":\"2021-07-31\",\"name\":\"2021-07-31\",\"basename\":\"2021-07-31\",\"analyticType\":\"measure\",\"semanticType\":\"quantitative\",\"aggName\":\"sum\",\"offset\":0},{\"dragId\":\"gw_go2d\",\"fid\":\"2021-08-31\",\"name\":\"2021-08-31\",\"basename\":\"2021-08-31\",\"analyticType\":\"measure\",\"semanticType\":\"quantitative\",\"aggName\":\"sum\",\"offset\":0},{\"dragId\":\"gw_lhaA\",\"fid\":\"2021-09-30\",\"name\":\"2021-09-30\",\"basename\":\"2021-09-30\",\"analyticType\":\"measure\",\"semanticType\":\"quantitative\",\"aggName\":\"sum\",\"offset\":0},{\"dragId\":\"gw_f0iH\",\"fid\":\"2021-10-31\",\"name\":\"2021-10-31\",\"basename\":\"2021-10-31\",\"analyticType\":\"measure\",\"semanticType\":\"quantitative\",\"aggName\":\"sum\",\"offset\":0},{\"dragId\":\"gw_yhG3\",\"fid\":\"2021-11-30\",\"name\":\"2021-11-30\",\"basename\":\"2021-11-30\",\"analyticType\":\"measure\",\"semanticType\":\"quantitative\",\"aggName\":\"sum\",\"offset\":0},{\"dragId\":\"gw_qXgc\",\"fid\":\"2021-12-31\",\"name\":\"2021-12-31\",\"basename\":\"2021-12-31\",\"analyticType\":\"measure\",\"semanticType\":\"quantitative\",\"aggName\":\"sum\",\"offset\":0},{\"dragId\":\"gw_xL9J\",\"fid\":\"2022-01-31\",\"name\":\"2022-01-31\",\"basename\":\"2022-01-31\",\"analyticType\":\"measure\",\"semanticType\":\"quantitative\",\"aggName\":\"sum\",\"offset\":0},{\"dragId\":\"gw_Yj68\",\"fid\":\"2022-02-28\",\"name\":\"2022-02-28\",\"basename\":\"2022-02-28\",\"analyticType\":\"measure\",\"semanticType\":\"quantitative\",\"aggName\":\"sum\",\"offset\":0},{\"dragId\":\"gw_quE4\",\"fid\":\"2022-03-31\",\"name\":\"2022-03-31\",\"basename\":\"2022-03-31\",\"analyticType\":\"measure\",\"semanticType\":\"quantitative\",\"aggName\":\"sum\",\"offset\":0},{\"dragId\":\"gw_DNSA\",\"fid\":\"2022-04-30\",\"name\":\"2022-04-30\",\"basename\":\"2022-04-30\",\"analyticType\":\"measure\",\"semanticType\":\"quantitative\",\"aggName\":\"sum\",\"offset\":0},{\"dragId\":\"gw_oOtZ\",\"fid\":\"2022-05-31\",\"name\":\"2022-05-31\",\"basename\":\"2022-05-31\",\"analyticType\":\"measure\",\"semanticType\":\"quantitative\",\"aggName\":\"sum\",\"offset\":0},{\"dragId\":\"gw_qPoR\",\"fid\":\"2022-06-30\",\"name\":\"2022-06-30\",\"basename\":\"2022-06-30\",\"analyticType\":\"measure\",\"semanticType\":\"quantitative\",\"aggName\":\"sum\",\"offset\":0},{\"dragId\":\"gw_m3J4\",\"fid\":\"2022-07-31\",\"name\":\"2022-07-31\",\"basename\":\"2022-07-31\",\"analyticType\":\"measure\",\"semanticType\":\"quantitative\",\"aggName\":\"sum\",\"offset\":0},{\"dragId\":\"gw_afdw\",\"fid\":\"2022-08-31\",\"name\":\"2022-08-31\",\"basename\":\"2022-08-31\",\"analyticType\":\"measure\",\"semanticType\":\"quantitative\",\"aggName\":\"sum\",\"offset\":0},{\"dragId\":\"gw_q3zO\",\"fid\":\"2022-09-30\",\"name\":\"2022-09-30\",\"basename\":\"2022-09-30\",\"analyticType\":\"measure\",\"semanticType\":\"quantitative\",\"aggName\":\"sum\",\"offset\":0},{\"dragId\":\"gw_yvws\",\"fid\":\"2022-10-31\",\"name\":\"2022-10-31\",\"basename\":\"2022-10-31\",\"analyticType\":\"measure\",\"semanticType\":\"quantitative\",\"aggName\":\"sum\",\"offset\":0},{\"dragId\":\"gw_iD4b\",\"fid\":\"2022-11-30\",\"name\":\"2022-11-30\",\"basename\":\"2022-11-30\",\"analyticType\":\"measure\",\"semanticType\":\"quantitative\",\"aggName\":\"sum\",\"offset\":0},{\"dragId\":\"gw_xCSg\",\"fid\":\"2022-12-31\",\"name\":\"2022-12-31\",\"basename\":\"2022-12-31\",\"analyticType\":\"measure\",\"semanticType\":\"quantitative\",\"aggName\":\"sum\",\"offset\":0},{\"dragId\":\"gw_3vnO\",\"fid\":\"2023-01-31\",\"name\":\"2023-01-31\",\"basename\":\"2023-01-31\",\"analyticType\":\"measure\",\"semanticType\":\"quantitative\",\"aggName\":\"sum\",\"offset\":0},{\"dragId\":\"gw_1RlA\",\"fid\":\"2023-02-28\",\"name\":\"2023-02-28\",\"basename\":\"2023-02-28\",\"analyticType\":\"measure\",\"semanticType\":\"quantitative\",\"aggName\":\"sum\",\"offset\":0},{\"dragId\":\"gw_M7mA\",\"fid\":\"2023-03-31\",\"name\":\"2023-03-31\",\"basename\":\"2023-03-31\",\"analyticType\":\"measure\",\"semanticType\":\"quantitative\",\"aggName\":\"sum\",\"offset\":0},{\"dragId\":\"gw_P9KP\",\"fid\":\"2023-04-30\",\"name\":\"2023-04-30\",\"basename\":\"2023-04-30\",\"analyticType\":\"measure\",\"semanticType\":\"quantitative\",\"aggName\":\"sum\",\"offset\":0},{\"dragId\":\"gw_cLZV\",\"fid\":\"2023-05-31\",\"name\":\"2023-05-31\",\"basename\":\"2023-05-31\",\"analyticType\":\"measure\",\"semanticType\":\"quantitative\",\"aggName\":\"sum\",\"offset\":0},{\"dragId\":\"gw_ZOM1\",\"fid\":\"2023-06-30\",\"name\":\"2023-06-30\",\"basename\":\"2023-06-30\",\"analyticType\":\"measure\",\"semanticType\":\"quantitative\",\"aggName\":\"sum\",\"offset\":0},{\"dragId\":\"gw_FLY8\",\"fid\":\"2023-07-31\",\"name\":\"2023-07-31\",\"basename\":\"2023-07-31\",\"analyticType\":\"measure\",\"semanticType\":\"quantitative\",\"aggName\":\"sum\",\"offset\":0},{\"dragId\":\"gw_SoBI\",\"fid\":\"2023-08-31\",\"name\":\"2023-08-31\",\"basename\":\"2023-08-31\",\"analyticType\":\"measure\",\"semanticType\":\"quantitative\",\"aggName\":\"sum\",\"offset\":0},{\"dragId\":\"gw_6LIw\",\"fid\":\"2023-09-30\",\"name\":\"2023-09-30\",\"basename\":\"2023-09-30\",\"analyticType\":\"measure\",\"semanticType\":\"quantitative\",\"aggName\":\"sum\",\"offset\":0},{\"dragId\":\"gw_pPHx\",\"fid\":\"2023-10-31\",\"name\":\"2023-10-31\",\"basename\":\"2023-10-31\",\"analyticType\":\"measure\",\"semanticType\":\"quantitative\",\"aggName\":\"sum\",\"offset\":0},{\"dragId\":\"gw_Vkgs\",\"fid\":\"2023-11-30\",\"name\":\"2023-11-30\",\"basename\":\"2023-11-30\",\"analyticType\":\"measure\",\"semanticType\":\"quantitative\",\"aggName\":\"sum\",\"offset\":0},{\"dragId\":\"gw_LtwZ\",\"fid\":\"2023-12-31\",\"name\":\"2023-12-31\",\"basename\":\"2023-12-31\",\"analyticType\":\"measure\",\"semanticType\":\"quantitative\",\"aggName\":\"sum\",\"offset\":0},{\"dragId\":\"gw_-fJr\",\"fid\":\"2024-01-31\",\"name\":\"2024-01-31\",\"basename\":\"2024-01-31\",\"analyticType\":\"measure\",\"semanticType\":\"quantitative\",\"aggName\":\"sum\",\"offset\":0},{\"dragId\":\"gw_count_fid\",\"fid\":\"gw_count_fid\",\"name\":\"Row count\",\"analyticType\":\"measure\",\"semanticType\":\"quantitative\",\"aggName\":\"sum\",\"computed\":true,\"expression\":{\"op\":\"one\",\"params\":[],\"as\":\"gw_count_fid\"}},{\"dragId\":\"gw_mea_val_fid\",\"fid\":\"gw_mea_val_fid\",\"name\":\"Measure values\",\"analyticType\":\"measure\",\"semanticType\":\"quantitative\",\"aggName\":\"sum\"}],\"rows\":[{\"dragId\":\"gw_3n3p\",\"fid\":\"2018-01-31\",\"name\":\"2018-01-31\",\"basename\":\"2018-01-31\",\"analyticType\":\"measure\",\"semanticType\":\"quantitative\",\"aggName\":\"mean\",\"offset\":0}],\"columns\":[{\"dragId\":\"gw_VYCs\",\"fid\":\"StateName\",\"name\":\"StateName\",\"basename\":\"StateName\",\"semanticType\":\"nominal\",\"analyticType\":\"dimension\",\"offset\":0}],\"color\":[],\"opacity\":[],\"size\":[],\"shape\":[],\"radius\":[],\"theta\":[],\"longitude\":[],\"latitude\":[],\"geoId\":[],\"details\":[],\"filters\":[],\"text\":[]},\"layout\":{\"showActions\":false,\"showTableSummary\":false,\"stack\":\"stack\",\"interactiveScale\":false,\"zeroScale\":true,\"size\":{\"mode\":\"auto\",\"width\":320,\"height\":200},\"format\":{},\"geoKey\":\"name\",\"resolve\":{\"x\":false,\"y\":false,\"color\":false,\"opacity\":false,\"shape\":false,\"size\":false}},\"visId\":\"gw_qxwk\",\"name\":\"Chart 1\"}],\"chart_map\":{},\"workflow_list\":[{\"workflow\":[{\"type\":\"view\",\"query\":[{\"op\":\"aggregate\",\"groupBy\":[\"StateName\"],\"measures\":[{\"field\":\"2018-01-31\",\"agg\":\"mean\",\"asFieldKey\":\"2018-01-31_mean\"}]}]}]}],\"version\":\"0.4.7\"}\"\"\"\n",
    "pyg.walk(df_sale_price_cleaned, spec=vis_spec)\n"
   ]
  },
  {
   "cell_type": "code",
   "execution_count": 6,
   "id": "3bf03730-5b0d-4eca-bcde-5bae00f23b30",
   "metadata": {},
   "outputs": [
    {
     "data": {
      "application/vnd.jupyter.widget-view+json": {
       "model_id": "63db1d0602994d7a9896ede7a96f4d9c",
       "version_major": 2,
       "version_minor": 0
      },
      "text/plain": [
       "Box(children=(HTML(value='<div id=\"ifr-pyg-000616116f1a3c0cTArjQpybGLomCU2s\" style=\"height: auto\">\\n    <head>…"
      ]
     },
     "metadata": {},
     "output_type": "display_data"
    },
    {
     "data": {
      "text/html": [],
      "text/plain": [
       "<IPython.core.display.HTML object>"
      ]
     },
     "metadata": {},
     "output_type": "display_data"
    }
   ],
   "source": [
    "import pygwalker as pyg\n",
    "from pygwalker import GlobalVarManager\n",
    "GlobalVarManager.set_kanaries_api_key(\"ak-c664d336f1906260d6ab5daea9e4b4108867cdd654af011790b03ff104b41ef3\")\n",
    "\n",
    "import pandas as pd\n",
    "\n",
    "df_sale_price = pd.read_csv('data/Metro_new_con_sales_count_raw_uc_sfrcondo_month.csv')\n",
    "\n",
    "df_sale_price_cleaned = df_sale_price.dropna()\n",
    "\n",
    "walker = pyg.walk(df_sale_price_cleaned, spec=\"ksf://zillow_project/PyGWalker.ipynb\") "
   ]
  },
  {
   "cell_type": "code",
   "execution_count": null,
   "id": "323bce75-0cf1-4a37-b874-27b288822c09",
   "metadata": {},
   "outputs": [],
   "source": []
  }
 ],
 "metadata": {
  "kernelspec": {
   "display_name": "Python 3 (ipykernel)",
   "language": "python",
   "name": "python3"
  },
  "language_info": {
   "codemirror_mode": {
    "name": "ipython",
    "version": 3
   },
   "file_extension": ".py",
   "mimetype": "text/x-python",
   "name": "python",
   "nbconvert_exporter": "python",
   "pygments_lexer": "ipython3",
   "version": "3.11.8"
  }
 },
 "nbformat": 4,
 "nbformat_minor": 5
}
