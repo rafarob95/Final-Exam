{
 "cells": [
  {
   "cell_type": "code",
   "execution_count": 52,
   "id": "1e585b74-2eda-4287-b589-e044279ef262",
   "metadata": {
    "tags": []
   },
   "outputs": [
    {
     "name": "stdout",
     "output_type": "stream",
     "text": [
      "   RegionID  SizeRank       RegionName RegionType StateName    BaseDate  \\\n",
      "0    102001         0    United States    country       NaN  2024-02-29   \n",
      "1    394913         1     New York, NY        msa        NY  2024-02-29   \n",
      "2    753899         2  Los Angeles, CA        msa        CA  2024-02-29   \n",
      "3    394463         3      Chicago, IL        msa        IL  2024-02-29   \n",
      "4    394514         4       Dallas, TX        msa        TX  2024-02-29   \n",
      "\n",
      "   2024-03-31  2024-05-31  2025-02-28  \n",
      "0         0.8         2.2         0.6  \n",
      "1         0.5         1.0        -1.6  \n",
      "2         1.0         2.3        -0.9  \n",
      "3         1.1         3.0        -1.0  \n",
      "4         1.1         2.8         0.8  \n"
     ]
    }
   ],
   "source": [
    "import pandas as pd\n",
    "import numpy as np\n",
    "\n",
    "# 1.⁠ ⁠mortgage: calculated\n",
    "\n",
    "# 2.⁠ ⁠rentals: ZORI(smoothed): all homes plus multifamily time series - metro&us\n",
    "# The index is dollar-denominated by computing the mean of listed rents that fall \n",
    "# into the 40th to 60th percentile range for all homes and apartments in a given\n",
    "# region, which is weighted to reflect the rental housing stock.\n",
    "rentals = pd.read_csv(\"data/Dataset to use/Metro_zori_uc_sfrcondomfr_sm_month.csv\")\n",
    "# print(rentals.head())\n",
    "\n",
    "# 3.⁠ ⁠SALES: median sale price (smooth, all homes, monthly) - metro&us\n",
    "# The Sales Count Nowcast is the estimated number of unique properties that sold \n",
    "# during the month after accounting for the latency between when sales occur and \n",
    "# when they are reported. Available only for the raw cut of all homes.\n",
    "# Sale Price (median/mean): The price at which homes across various geographies were sold.\n",
    "# Sale-to-List Ratio (mean/median): Ratio of sale vs. final list price.\n",
    "# Percent of Sales Below/Above List: Share of sales where sale price below/above the \n",
    "# final list price; excludes homes sold for exactly the list price.\n",
    "median_sales = pd.read_csv(\"data/Dataset to use/Metro_median_sale_price_uc_sfrcondo_sm_month.csv\")\n",
    "# print(median_sales.head())\n",
    "\n",
    "# 4.⁠ ⁠ZHVF (Forecast), All homes (SFR, condo/co-op), raw, mid-tier - metro & us\n",
    "# A month-ahead, quarter-ahead and year-ahead forecast of the Zillow Home Value Index (ZHVI).\n",
    "home_forecast = pd.read_csv(\"data/Dataset to use/Metro_zhvf_growth_uc_sfrcondo_tier_0.33_0.67_month.csv\")\n",
    "print(home_forecast.head())\n"
   ]
  },
  {
   "cell_type": "code",
   "execution_count": 50,
   "id": "74067e28-4760-49db-8358-7973ee579a27",
   "metadata": {
    "tags": []
   },
   "outputs": [
    {
     "name": "stdout",
     "output_type": "stream",
     "text": [
      "   RegionID  SizeRank      Region Name Region Type  State Name Date Recorded  \\\n",
      "1    394913         1     New York, NY         msa    New York    2015-01-31   \n",
      "2    753899         2  Los Angeles, CA         msa  California    2015-01-31   \n",
      "3    394463         3      Chicago, IL         msa    Illinois    2015-01-31   \n",
      "4    394514         4       Dallas, TX         msa       Texas    2015-01-31   \n",
      "5    394692         5      Houston, TX         msa       Texas    2015-01-31   \n",
      "\n",
      "   Monthly Rent  \n",
      "1   2286.918320  \n",
      "2   1833.212831  \n",
      "3   1418.891001  \n",
      "4   1104.552997  \n",
      "5   1226.598136  \n"
     ]
    }
   ],
   "source": [
    "# Data cleaning for rentals dataset \n",
    "\n",
    "# Check for missing values \n",
    "rentals.dropna(subset=['RegionID', 'RegionName'], inplace=True)\n",
    "\n",
    "# data frame to long format \n",
    "rentals_melted = rentals.melt(id_vars=[\"RegionID\", \"SizeRank\", \"RegionName\", \"RegionType\", \"StateName\"],\n",
    "                              var_name=\"Date\",\n",
    "                              value_name=\"Rent\")\n",
    "\n",
    "# Convert 'Date' to datetime format\n",
    "rentals_melted['Date'] = pd.to_datetime(rentals_melted['Date'], errors='coerce')\n",
    "\n",
    "# Drop rows where 'Rent' is null\n",
    "rentals_melted.dropna(subset=['Rent'], inplace=True)\n",
    "\n",
    "\n",
    "# Drop all rows where RegionType is country\n",
    "state_rentals = rentals_melted[rentals_melted['RegionType'] != 'country']\n",
    "\n",
    "state_rentals = state_rentals.copy()\n",
    "state_rentals.rename(columns={\n",
    "    'RegionName': 'Region Name',\n",
    "    'RegionType': 'Region Type',\n",
    "    'StateName': 'State Name',\n",
    "    'Date': 'Date Recorded',\n",
    "    'Rent': 'Monthly Rent'\n",
    "}, inplace=True)\n",
    "\n",
    "state_abbreviations = {\n",
    "    'AL': 'Alabama', 'AK': 'Alaska', 'AZ': 'Arizona', 'AR': 'Arkansas', 'CA': 'California', 'CO': 'Colorado',\n",
    "    'CT': 'Connecticut', 'DE': 'Delaware', 'FL': 'Florida', 'GA': 'Georgia', 'HI': 'Hawaii', 'ID': 'Idaho',\n",
    "    'IL': 'Illinois', 'IN': 'Indiana', 'IA': 'Iowa', 'KS': 'Kansas', 'KY': 'Kentucky', 'LA': 'Louisiana',\n",
    "    'ME': 'Maine', 'MD': 'Maryland', 'MA': 'Massachusetts', 'MI': 'Michigan', 'MN': 'Minnesota', 'MS': 'Mississippi',\n",
    "    'MO': 'Missouri', 'MT': 'Montana', 'NE': 'Nebraska', 'NV': 'Nevada', 'NH': 'New Hampshire', 'NJ': 'New Jersey',\n",
    "    'NM': 'New Mexico', 'NY': 'New York', 'NC': 'North Carolina', 'ND': 'North Dakota', 'OH': 'Ohio',\n",
    "    'OK': 'Oklahoma', 'OR': 'Oregon', 'PA': 'Pennsylvania', 'RI': 'Rhode Island', 'SC': 'South Carolina',\n",
    "    'SD': 'South Dakota', 'TN': 'Tennessee', 'TX': 'Texas', 'UT': 'Utah', 'VT': 'Vermont', 'VA': 'Virginia',\n",
    "    'WA': 'Washington', 'WV': 'West Virginia', 'WI': 'Wisconsin', 'WY': 'Wyoming'\n",
    "}\n",
    "\n",
    "# Replace state abbreviations with full names in the 'State Name' column\n",
    "state_rentals['State Name'] = state_rentals['State Name'].map(state_abbreviations).fillna(state_rentals['State Name'])\n",
    "\n",
    "print(state_rentals.head())\n",
    "# Export the cleaned and transformed data to a CSV file\n",
    "state_rentals.to_csv(\"cleaned_state_rentals.csv\", index=False)\n"
   ]
  },
  {
   "cell_type": "code",
   "execution_count": 51,
   "id": "d1f1753a-1232-4ee4-8321-ec483ed3cfa6",
   "metadata": {
    "tags": []
   },
   "outputs": [
    {
     "name": "stdout",
     "output_type": "stream",
     "text": [
      "   RegionID  SizeRank      Region Name Region Type  State Name Date Recorded  \\\n",
      "1    394913         1     New York, NY         msa    New York    2008-04-30   \n",
      "2    753899         2  Los Angeles, CA         msa  California    2008-04-30   \n",
      "3    394463         3      Chicago, IL         msa    Illinois    2008-04-30   \n",
      "4    394514         4       Dallas, TX         msa       Texas    2008-04-30   \n",
      "5    394692         5      Houston, TX         msa       Texas    2008-04-30   \n",
      "\n",
      "   Median Sale Price  \n",
      "1           395000.0  \n",
      "2           461000.0  \n",
      "3           227333.0  \n",
      "4           142967.0  \n",
      "5           145788.0  \n"
     ]
    }
   ],
   "source": [
    "# Convert 'Date' to datetime format and melt the data frame\n",
    "median_sales_melted = median_sales.melt(id_vars=[\"RegionID\", \"SizeRank\", \"RegionName\", \"RegionType\", \"StateName\"],\n",
    "                                        var_name=\"Date\",\n",
    "                                        value_name=\"MedianSalePrice\")\n",
    "median_sales_melted['Date'] = pd.to_datetime(median_sales_melted['Date'], errors='coerce')\n",
    "\n",
    "# Drop rows where 'MedianSalePrice' is null\n",
    "median_sales_melted.dropna(subset=['MedianSalePrice'], inplace=True)\n",
    "\n",
    "# Drop all rows where RegionType is country\n",
    "state_median_sales = median_sales_melted[median_sales_melted['RegionType'] != 'country']\n",
    "state_median_sales = state_median_sales.copy()\n",
    "\n",
    "# Rename columns\n",
    "state_median_sales.rename(columns={\n",
    "    'RegionName': 'Region Name',\n",
    "    'RegionType': 'Region Type',\n",
    "    'StateName': 'State Name',\n",
    "    'Date': 'Date Recorded',\n",
    "    'MedianSalePrice': 'Median Sale Price'\n",
    "}, inplace=True)\n",
    "\n",
    "# Replace state abbreviations with full names in the 'State Name' column\n",
    "state_abbreviations = {\n",
    "    'AL': 'Alabama', 'AK': 'Alaska', 'AZ': 'Arizona', 'AR': 'Arkansas', 'CA': 'California', 'CO': 'Colorado',\n",
    "    'CT': 'Connecticut', 'DE': 'Delaware', 'FL': 'Florida', 'GA': 'Georgia', 'HI': 'Hawaii', 'ID': 'Idaho',\n",
    "    'IL': 'Illinois', 'IN': 'Indiana', 'IA': 'Iowa', 'KS': 'Kansas', 'KY': 'Kentucky', 'LA': 'Louisiana',\n",
    "    'ME': 'Maine', 'MD': 'Maryland', 'MA': 'Massachusetts', 'MI': 'Michigan', 'MN': 'Minnesota', 'MS': 'Mississippi',\n",
    "    'MO': 'Missouri', 'MT': 'Montana', 'NE': 'Nebraska', 'NV': 'Nevada', 'NH': 'New Hampshire', 'NJ': 'New Jersey',\n",
    "    'NM': 'New Mexico', 'NY': 'New York', 'NC': 'North Carolina', 'ND': 'North Dakota', 'OH': 'Ohio',\n",
    "    'OK': 'Oklahoma', 'OR': 'Oregon', 'PA': 'Pennsylvania', 'RI': 'Rhode Island', 'SC': 'South Carolina',\n",
    "    'SD': 'South Dakota', 'TN': 'Tennessee', 'TX': 'Texas', 'UT': 'Utah', 'VT': 'Vermont', 'VA': 'Virginia',\n",
    "    'WA': 'Washington', 'WV': 'West Virginia', 'WI': 'Wisconsin', 'WY': 'Wyoming'\n",
    "}\n",
    "state_median_sales['State Name'] = state_median_sales['State Name'].map(state_abbreviations).fillna(state_median_sales['State Name'])\n",
    "\n",
    "# Export the cleaned and transformed data to a CSV file\n",
    "state_median_sales.to_csv(\"cleaned_median_sales.csv\", index=False)\n",
    "\n",
    "# Print the head of the dataset to verify the changes\n",
    "print(state_median_sales.head())\n"
   ]
  },
  {
   "cell_type": "code",
   "execution_count": 53,
   "id": "f243282e-0093-4433-a7ab-54489ade4b96",
   "metadata": {
    "tags": []
   },
   "outputs": [
    {
     "name": "stdout",
     "output_type": "stream",
     "text": [
      "   RegionID  SizeRank      Region Name Region Type  State Name  \\\n",
      "1    394913         1     New York, NY         msa    New York   \n",
      "2    753899         2  Los Angeles, CA         msa  California   \n",
      "3    394463         3      Chicago, IL         msa    Illinois   \n",
      "4    394514         4       Dallas, TX         msa       Texas   \n",
      "5    394692         5      Houston, TX         msa       Texas   \n",
      "\n",
      "  Base Date Recorded Forecast Date  Forecast Growth (%)  \n",
      "1         2024-02-29    2024-03-31                  0.5  \n",
      "2         2024-02-29    2024-03-31                  1.0  \n",
      "3         2024-02-29    2024-03-31                  1.1  \n",
      "4         2024-02-29    2024-03-31                  1.1  \n",
      "5         2024-02-29    2024-03-31                  0.8  \n"
     ]
    }
   ],
   "source": [
    "# Melt the DataFrame to long format\n",
    "home_forecast_melted = home_forecast.melt(id_vars=[\"RegionID\", \"SizeRank\", \"RegionName\", \"RegionType\", \"StateName\", \"BaseDate\"],\n",
    "                                          var_name=\"ForecastDate\",\n",
    "                                          value_name=\"ForecastGrowth\")\n",
    "\n",
    "# Convert 'BaseDate' and 'ForecastDate' to datetime format\n",
    "home_forecast_melted['BaseDate'] = pd.to_datetime(home_forecast_melted['BaseDate'], errors='coerce')\n",
    "home_forecast_melted['ForecastDate'] = pd.to_datetime(home_forecast_melted['ForecastDate'], errors='coerce')\n",
    "\n",
    "# Drop rows where 'ForecastGrowth' is null\n",
    "home_forecast_melted.dropna(subset=['ForecastGrowth'], inplace=True)\n",
    "\n",
    "# Drop all rows where RegionType is country\n",
    "state_home_forecast = home_forecast_melted[home_forecast_melted['RegionType'] != 'country']\n",
    "state_home_forecast = state_home_forecast.copy()\n",
    "\n",
    "# Rename columns\n",
    "state_home_forecast.rename(columns={\n",
    "    'RegionName': 'Region Name',\n",
    "    'RegionType': 'Region Type',\n",
    "    'StateName': 'State Name',\n",
    "    'BaseDate': 'Base Date Recorded',\n",
    "    'ForecastDate': 'Forecast Date',\n",
    "    'ForecastGrowth': 'Forecast Growth (%)'\n",
    "}, inplace=True)\n",
    "\n",
    "# Replace state abbreviations with full names in the 'State Name' column, using previously defined 'state_abbreviations'\n",
    "state_abbreviations = {\n",
    "    'AL': 'Alabama', 'AK': 'Alaska', 'AZ': 'Arizona', 'AR': 'Arkansas', 'CA': 'California', 'CO': 'Colorado',\n",
    "    'CT': 'Connecticut', 'DE': 'Delaware', 'FL': 'Florida', 'GA': 'Georgia', 'HI': 'Hawaii', 'ID': 'Idaho',\n",
    "    'IL': 'Illinois', 'IN': 'Indiana', 'IA': 'Iowa', 'KS': 'Kansas', 'KY': 'Kentucky', 'LA': 'Louisiana',\n",
    "    'ME': 'Maine', 'MD': 'Maryland', 'MA': 'Massachusetts', 'MI': 'Michigan', 'MN': 'Minnesota', 'MS': 'Mississippi',\n",
    "    'MO': 'Missouri', 'MT': 'Montana', 'NE': 'Nebraska', 'NV': 'Nevada', 'NH': 'New Hampshire', 'NJ': 'New Jersey',\n",
    "    'NM': 'New Mexico', 'NY': 'New York', 'NC': 'North Carolina', 'ND': 'North Dakota', 'OH': 'Ohio',\n",
    "    'OK': 'Oklahoma', 'OR': 'Oregon', 'PA': 'Pennsylvania', 'RI': 'Rhode Island', 'SC': 'South Carolina',\n",
    "    'SD': 'South Dakota', 'TN': 'Tennessee', 'TX': 'Texas', 'UT': 'Utah', 'VT': 'Vermont', 'VA': 'Virginia',\n",
    "    'WA': 'Washington', 'WV': 'West Virginia', 'WI': 'Wisconsin', 'WY': 'Wyoming'\n",
    "}\n",
    "state_home_forecast['State Name'] = state_home_forecast['State Name'].map(state_abbreviations).fillna(state_home_forecast['State Name'])\n",
    "\n",
    "# Export the cleaned and transformed data to a CSV file\n",
    "state_home_forecast.to_csv(\"cleaned_state_home_forecast.csv\", index=False)\n",
    "\n",
    "# Print the head of the dataset to verify the changes\n",
    "print(state_home_forecast.head())\n"
   ]
  },
  {
   "cell_type": "code",
   "execution_count": null,
   "id": "b3b5bd95-2c08-4a23-857e-df0d0f9a3f84",
   "metadata": {},
   "outputs": [],
   "source": []
  }
 ],
 "metadata": {
  "kernelspec": {
   "display_name": "Python 3 (ipykernel)",
   "language": "python",
   "name": "python3"
  },
  "language_info": {
   "codemirror_mode": {
    "name": "ipython",
    "version": 3
   },
   "file_extension": ".py",
   "mimetype": "text/x-python",
   "name": "python",
   "nbconvert_exporter": "python",
   "pygments_lexer": "ipython3",
   "version": "3.11.8"
  }
 },
 "nbformat": 4,
 "nbformat_minor": 5
}
